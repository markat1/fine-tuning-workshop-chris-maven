{
 "cells": [
  {
   "cell_type": "code",
   "execution_count": 3,
   "metadata": {},
   "outputs": [],
   "source": [
    "import json\n",
    "import requests\n",
    "import os\n",
    "import time\n",
    "import getpass\n",
    "from huggingface_hub import notebook_login\n",
    "\n",
    "from datasets import load_dataset\n",
    "from fireworks.client import Fireworks\n",
    "from pydantic import BaseModel, Field\n",
    "from transformers import AutoTokenizer\n",
    "import pandas as pd\n"
   ]
  },
  {
   "cell_type": "code",
   "execution_count": 2,
   "metadata": {},
   "outputs": [],
   "source": [
    "os.environ[\"FIREWORKS_API_KEY\"] = getpass.getpass(\"fireworks api:\")"
   ]
  },
  {
   "cell_type": "code",
   "execution_count": 4,
   "metadata": {},
   "outputs": [
    {
     "data": {
      "application/vnd.jupyter.widget-view+json": {
       "model_id": "4ff82a49ecc0427f821c6df00d828d13",
       "version_major": 2,
       "version_minor": 0
      },
      "text/plain": [
       "VBox(children=(HTML(value='<center> <img\\nsrc=https://huggingface.co/front/assets/huggingface_logo-noborder.sv…"
      ]
     },
     "metadata": {},
     "output_type": "display_data"
    }
   ],
   "source": [
    "notebook_login()"
   ]
  },
  {
   "cell_type": "code",
   "execution_count": 5,
   "metadata": {},
   "outputs": [
    {
     "name": "stderr",
     "output_type": "stream",
     "text": [
      "/home/markt/.local/lib/python3.11/site-packages/huggingface_hub/file_download.py:1132: FutureWarning: `resume_download` is deprecated and will be removed in version 1.0.0. Downloads always resume when possible. If you want to force a new download, use `force_download=True`.\n",
      "  warnings.warn(\n",
      "Special tokens have been added in the vocabulary, make sure the associated word embeddings are fine-tuned or trained.\n"
     ]
    }
   ],
   "source": [
    "client = Fireworks(api_key=os.environ[\"FIREWORKS_API_KEY\"])\n",
    "\n",
    "model_id = \"meta-llama/Meta-Llama-3-8B\"\n",
    "tokenizer = AutoTokenizer.from_pretrained(model_id)"
   ]
  },
  {
   "cell_type": "code",
   "execution_count": 7,
   "metadata": {},
   "outputs": [
    {
     "data": {
      "text/html": [
       "<div>\n",
       "<style scoped>\n",
       "    .dataframe tbody tr th:only-of-type {\n",
       "        vertical-align: middle;\n",
       "    }\n",
       "\n",
       "    .dataframe tbody tr th {\n",
       "        vertical-align: top;\n",
       "    }\n",
       "\n",
       "    .dataframe thead th {\n",
       "        text-align: right;\n",
       "    }\n",
       "</style>\n",
       "<table border=\"1\" class=\"dataframe\">\n",
       "  <thead>\n",
       "    <tr style=\"text-align: right;\">\n",
       "      <th></th>\n",
       "      <th>English</th>\n",
       "      <th>Danish</th>\n",
       "    </tr>\n",
       "  </thead>\n",
       "  <tbody>\n",
       "    <tr>\n",
       "      <th>0</th>\n",
       "      <td>The cat sat on the windowsill  watching the bi...</td>\n",
       "      <td>Katten sad på vindueskarmen og kiggede på fugl...</td>\n",
       "    </tr>\n",
       "    <tr>\n",
       "      <th>1</th>\n",
       "      <td>She baked a delicious chocolate cake for her f...</td>\n",
       "      <td>Hun bagte en lækker chokoladekage til sin vens...</td>\n",
       "    </tr>\n",
       "    <tr>\n",
       "      <th>2</th>\n",
       "      <td>The new park in the city center has become a p...</td>\n",
       "      <td>Den nye park i byens centrum er blevet et popu...</td>\n",
       "    </tr>\n",
       "    <tr>\n",
       "      <th>3</th>\n",
       "      <td>He quickly realized that learning a new langua...</td>\n",
       "      <td>Han indså hurtigt, at det at lære et nyt sprog...</td>\n",
       "    </tr>\n",
       "    <tr>\n",
       "      <th>4</th>\n",
       "      <td>The old castle on the hill offers a beautiful ...</td>\n",
       "      <td>Det gamle slot på bakken tilbyder en smuk udsi...</td>\n",
       "    </tr>\n",
       "    <tr>\n",
       "      <th>...</th>\n",
       "      <td>...</td>\n",
       "      <td>...</td>\n",
       "    </tr>\n",
       "    <tr>\n",
       "      <th>114</th>\n",
       "      <td>He enjoyed listening to classical music while ...</td>\n",
       "      <td>Han nød at lytte til klassisk musik, mens han ...</td>\n",
       "    </tr>\n",
       "    <tr>\n",
       "      <th>115</th>\n",
       "      <td>The old library was filled with countless trea...</td>\n",
       "      <td>Det gamle bibliotek var fyldt med utallige ska...</td>\n",
       "    </tr>\n",
       "    <tr>\n",
       "      <th>116</th>\n",
       "      <td>She spent her afternoons tending to her garden.</td>\n",
       "      <td>Hun tilbragte sine eftermiddage med at passe s...</td>\n",
       "    </tr>\n",
       "    <tr>\n",
       "      <th>117</th>\n",
       "      <td>The children's laughter echoed in the playground.</td>\n",
       "      <td>Børnenes latter genlød på legepladsen.</td>\n",
       "    </tr>\n",
       "    <tr>\n",
       "      <th>118</th>\n",
       "      <td>He captured the beauty of nature through his l...</td>\n",
       "      <td>Han indfangede naturens skønhed gennem sin linse.</td>\n",
       "    </tr>\n",
       "  </tbody>\n",
       "</table>\n",
       "<p>119 rows × 2 columns</p>\n",
       "</div>"
      ],
      "text/plain": [
       "                                               English  \\\n",
       "0    The cat sat on the windowsill  watching the bi...   \n",
       "1    She baked a delicious chocolate cake for her f...   \n",
       "2    The new park in the city center has become a p...   \n",
       "3    He quickly realized that learning a new langua...   \n",
       "4    The old castle on the hill offers a beautiful ...   \n",
       "..                                                 ...   \n",
       "114  He enjoyed listening to classical music while ...   \n",
       "115  The old library was filled with countless trea...   \n",
       "116    She spent her afternoons tending to her garden.   \n",
       "117  The children's laughter echoed in the playground.   \n",
       "118  He captured the beauty of nature through his l...   \n",
       "\n",
       "                                                Danish  \n",
       "0    Katten sad på vindueskarmen og kiggede på fugl...  \n",
       "1    Hun bagte en lækker chokoladekage til sin vens...  \n",
       "2    Den nye park i byens centrum er blevet et popu...  \n",
       "3    Han indså hurtigt, at det at lære et nyt sprog...  \n",
       "4    Det gamle slot på bakken tilbyder en smuk udsi...  \n",
       "..                                                 ...  \n",
       "114  Han nød at lytte til klassisk musik, mens han ...  \n",
       "115  Det gamle bibliotek var fyldt med utallige ska...  \n",
       "116  Hun tilbragte sine eftermiddage med at passe s...  \n",
       "117             Børnenes latter genlød på legepladsen.  \n",
       "118  Han indfangede naturens skønhed gennem sin linse.  \n",
       "\n",
       "[119 rows x 2 columns]"
      ]
     },
     "execution_count": 7,
     "metadata": {},
     "output_type": "execute_result"
    }
   ],
   "source": [
    "sample_data = pd.read_csv('english-danish-openai.csv')\n",
    "sample_data"
   ]
  },
  {
   "cell_type": "code",
   "execution_count": 9,
   "metadata": {},
   "outputs": [
    {
     "data": {
      "text/html": [
       "<div>\n",
       "<style scoped>\n",
       "    .dataframe tbody tr th:only-of-type {\n",
       "        vertical-align: middle;\n",
       "    }\n",
       "\n",
       "    .dataframe tbody tr th {\n",
       "        vertical-align: top;\n",
       "    }\n",
       "\n",
       "    .dataframe thead th {\n",
       "        text-align: right;\n",
       "    }\n",
       "</style>\n",
       "<table border=\"1\" class=\"dataframe\">\n",
       "  <thead>\n",
       "    <tr style=\"text-align: right;\">\n",
       "      <th></th>\n",
       "      <th>English</th>\n",
       "      <th>Danish</th>\n",
       "    </tr>\n",
       "  </thead>\n",
       "  <tbody>\n",
       "    <tr>\n",
       "      <th>0</th>\n",
       "      <td>The cat sat on the windowsill  watching the bi...</td>\n",
       "      <td>Katten sad på vindueskarmen og kiggede på fugl...</td>\n",
       "    </tr>\n",
       "    <tr>\n",
       "      <th>1</th>\n",
       "      <td>She baked a delicious chocolate cake for her f...</td>\n",
       "      <td>Hun bagte en lækker chokoladekage til sin vens...</td>\n",
       "    </tr>\n",
       "    <tr>\n",
       "      <th>2</th>\n",
       "      <td>The new park in the city center has become a p...</td>\n",
       "      <td>Den nye park i byens centrum er blevet et popu...</td>\n",
       "    </tr>\n",
       "    <tr>\n",
       "      <th>3</th>\n",
       "      <td>He quickly realized that learning a new langua...</td>\n",
       "      <td>Han indså hurtigt, at det at lære et nyt sprog...</td>\n",
       "    </tr>\n",
       "    <tr>\n",
       "      <th>4</th>\n",
       "      <td>The old castle on the hill offers a beautiful ...</td>\n",
       "      <td>Det gamle slot på bakken tilbyder en smuk udsi...</td>\n",
       "    </tr>\n",
       "    <tr>\n",
       "      <th>...</th>\n",
       "      <td>...</td>\n",
       "      <td>...</td>\n",
       "    </tr>\n",
       "    <tr>\n",
       "      <th>70</th>\n",
       "      <td>The recipe for the dish was passed down from h...</td>\n",
       "      <td>Opskriften på retter blev givet videre fra hen...</td>\n",
       "    </tr>\n",
       "    <tr>\n",
       "      <th>71</th>\n",
       "      <td>The river flowed gently through the picturesqu...</td>\n",
       "      <td>Floden flød stille gennem den maleriske dal.</td>\n",
       "    </tr>\n",
       "    <tr>\n",
       "      <th>72</th>\n",
       "      <td>He rescued a stray cat and gave it a loving home.</td>\n",
       "      <td>Han reddede en herreløs kat og gav den et kærl...</td>\n",
       "    </tr>\n",
       "    <tr>\n",
       "      <th>73</th>\n",
       "      <td>The charity event raised funds for a good cause.</td>\n",
       "      <td>Velgørenhedsarrangementet indsamlede midler ti...</td>\n",
       "    </tr>\n",
       "    <tr>\n",
       "      <th>74</th>\n",
       "      <td>She took a pottery class to learn a new skill.</td>\n",
       "      <td>Hun tog et keramik kursus for at lære en ny fæ...</td>\n",
       "    </tr>\n",
       "  </tbody>\n",
       "</table>\n",
       "<p>75 rows × 2 columns</p>\n",
       "</div>"
      ],
      "text/plain": [
       "                                              English  \\\n",
       "0   The cat sat on the windowsill  watching the bi...   \n",
       "1   She baked a delicious chocolate cake for her f...   \n",
       "2   The new park in the city center has become a p...   \n",
       "3   He quickly realized that learning a new langua...   \n",
       "4   The old castle on the hill offers a beautiful ...   \n",
       "..                                                ...   \n",
       "70  The recipe for the dish was passed down from h...   \n",
       "71  The river flowed gently through the picturesqu...   \n",
       "72  He rescued a stray cat and gave it a loving home.   \n",
       "73   The charity event raised funds for a good cause.   \n",
       "74     She took a pottery class to learn a new skill.   \n",
       "\n",
       "                                               Danish  \n",
       "0   Katten sad på vindueskarmen og kiggede på fugl...  \n",
       "1   Hun bagte en lækker chokoladekage til sin vens...  \n",
       "2   Den nye park i byens centrum er blevet et popu...  \n",
       "3   Han indså hurtigt, at det at lære et nyt sprog...  \n",
       "4   Det gamle slot på bakken tilbyder en smuk udsi...  \n",
       "..                                                ...  \n",
       "70  Opskriften på retter blev givet videre fra hen...  \n",
       "71       Floden flød stille gennem den maleriske dal.  \n",
       "72  Han reddede en herreløs kat og gav den et kærl...  \n",
       "73  Velgørenhedsarrangementet indsamlede midler ti...  \n",
       "74  Hun tog et keramik kursus for at lære en ny fæ...  \n",
       "\n",
       "[75 rows x 2 columns]"
      ]
     },
     "execution_count": 9,
     "metadata": {},
     "output_type": "execute_result"
    }
   ],
   "source": [
    "training_samples = sample_data[:75]\n",
    "validation_samples = sample_data[75:100]\n",
    "test_samples = sample_data[100:120]\n",
    "\n",
    "training_samples"
   ]
  },
  {
   "cell_type": "code",
   "execution_count": null,
   "metadata": {},
   "outputs": [],
   "source": []
  }
 ],
 "metadata": {
  "kernelspec": {
   "display_name": "llmops-course",
   "language": "python",
   "name": "python3"
  },
  "language_info": {
   "codemirror_mode": {
    "name": "ipython",
    "version": 3
   },
   "file_extension": ".py",
   "mimetype": "text/x-python",
   "name": "python",
   "nbconvert_exporter": "python",
   "pygments_lexer": "ipython3",
   "version": "3.11.7"
  }
 },
 "nbformat": 4,
 "nbformat_minor": 2
}
